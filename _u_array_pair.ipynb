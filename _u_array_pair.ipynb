{
 "cells": [
  {
   "cell_type": "code",
   "execution_count": 9,
   "metadata": {},
   "outputs": [],
   "source": [
    "def pair_sum(arr,k):\n",
    "    if len(arr)<2:\n",
    "        return\n",
    "    seen = set()\n",
    "    output = set()\n",
    "    for num in arr:\n",
    "        target = k-num\n",
    "        if target not in seen:\n",
    "            seen.add(num)\n",
    "        else:\n",
    "            output.add((min(num,target),max(num,target)))\n",
    "    print('\\n'.join(map(str,output)))\n",
    "    return len(output)"
   ]
  },
  {
   "cell_type": "code",
   "execution_count": 10,
   "metadata": {},
   "outputs": [],
   "source": [
    "from nose.tools import assert_equal\n",
    "class PairSumTest(object):\n",
    "    def test(self,sol):\n",
    "        assert_equal(sol([1,9,2,8,3,7,4,6,5,5,13,14,11,13,-1],10),6)\n",
    "        assert_equal(sol([1,2,3,1],3),1)\n",
    "        assert_equal(sol([1,3,2,2],4),2)\n",
    "        print(\"All Test Cases Passed\")"
   ]
  },
  {
   "cell_type": "code",
   "execution_count": 11,
   "metadata": {},
   "outputs": [
    {
     "name": "stdout",
     "output_type": "stream",
     "text": [
      "(4, 6)\n",
      "(5, 5)\n",
      "(2, 8)\n",
      "(-1, 11)\n",
      "(1, 9)\n",
      "(3, 7)\n",
      "(1, 2)\n",
      "(1, 3)\n",
      "(2, 2)\n",
      "All Test Cases Passed\n"
     ]
    }
   ],
   "source": [
    "c = PairSumTest()\n",
    "c.test(pair_sum)"
   ]
  }
 ],
 "metadata": {
  "kernelspec": {
   "display_name": "Python 3",
   "language": "python",
   "name": "python3"
  },
  "language_info": {
   "codemirror_mode": {
    "name": "ipython",
    "version": 3
   },
   "file_extension": ".py",
   "mimetype": "text/x-python",
   "name": "python",
   "nbconvert_exporter": "python",
   "pygments_lexer": "ipython3",
   "version": "3.7.4"
  }
 },
 "nbformat": 4,
 "nbformat_minor": 4
}
