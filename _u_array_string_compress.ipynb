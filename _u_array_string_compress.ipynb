{
 "cells": [
  {
   "cell_type": "code",
   "execution_count": 18,
   "metadata": {},
   "outputs": [],
   "source": [
    "def compress(s):\n",
    "    r = \"\"\n",
    "    l = len(s)\n",
    "    if l == 0:\n",
    "        return \"\"\n",
    "    #if l == 1:\n",
    "        #return s + \"1\"\n",
    "    last = s[0]\n",
    "    count = 1\n",
    "    i = 1\n",
    "    while i < l:\n",
    "        if s[i] == last:\n",
    "            count += 1\n",
    "        else:\n",
    "            r = r + last + str(count)\n",
    "            last = s[i]\n",
    "            count = 1\n",
    "        i += 1\n",
    "    r = r + last + str(count)\n",
    "    return r"
   ]
  },
  {
   "cell_type": "code",
   "execution_count": 19,
   "metadata": {},
   "outputs": [],
   "source": [
    "from nose.tools import assert_equal\n",
    "class CompressTest(object):\n",
    "    def test(self,sol):\n",
    "        assert_equal(sol(''), '')\n",
    "        assert_equal(sol('B'), 'B1')\n",
    "        assert_equal(sol('AABBCC'), 'A2B2C2')\n",
    "        assert_equal(sol('AAABCCDDDDD'), 'A3B1C2D5')\n",
    "        print(\"All Test Cases Passed\")"
   ]
  },
  {
   "cell_type": "code",
   "execution_count": 20,
   "metadata": {},
   "outputs": [
    {
     "name": "stdout",
     "output_type": "stream",
     "text": [
      "All Test Cases Passed\n"
     ]
    }
   ],
   "source": [
    "c = CompressTest()\n",
    "c.test(compress)"
   ]
  }
 ],
 "metadata": {
  "kernelspec": {
   "display_name": "Python 3",
   "language": "python",
   "name": "python3"
  },
  "language_info": {
   "codemirror_mode": {
    "name": "ipython",
    "version": 3
   },
   "file_extension": ".py",
   "mimetype": "text/x-python",
   "name": "python",
   "nbconvert_exporter": "python",
   "pygments_lexer": "ipython3",
   "version": "3.7.4"
  }
 },
 "nbformat": 4,
 "nbformat_minor": 4
}
