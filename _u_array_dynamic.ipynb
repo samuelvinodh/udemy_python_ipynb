{
 "cells": [
  {
   "cell_type": "code",
   "execution_count": 70,
   "metadata": {},
   "outputs": [
    {
     "name": "stdout",
     "output_type": "stream",
     "text": [
      "Length:   0; Size in bytes:   64\n",
      "Length:   1; Size in bytes:   96\n",
      "Length:   2; Size in bytes:   96\n",
      "Length:   3; Size in bytes:   96\n",
      "Length:   4; Size in bytes:   96\n",
      "Length:   5; Size in bytes:  128\n",
      "Length:   6; Size in bytes:  128\n",
      "Length:   7; Size in bytes:  128\n",
      "Length:   8; Size in bytes:  128\n",
      "Length:   9; Size in bytes:  192\n"
     ]
    }
   ],
   "source": [
    "import sys\n",
    "n = 10\n",
    "data = []\n",
    "for i in range(n):\n",
    "    a = len(data)\n",
    "    b = sys.getsizeof(data)\n",
    "    print('Length: {0:3d}; Size in bytes: {1:4d}'.format(a,b))\n",
    "    data.append(n)"
   ]
  },
  {
   "cell_type": "code",
   "execution_count": 71,
   "metadata": {},
   "outputs": [],
   "source": [
    "import ctypes\n",
    "class DynamicArray(object):\n",
    "    def __init__(self):\n",
    "        self.n = 0\n",
    "        self.capacity = 1\n",
    "        self.A = self.make_array(self.capacity)\n",
    "    def __len__(self):\n",
    "        return self.n\n",
    "    def __getitem__(self,k):\n",
    "        if not 0 <= k < self.n:\n",
    "            return IndexError('K is out of bounds!')\n",
    "        return self.A[k]\n",
    "    def append(self,ele):\n",
    "        if self.n == self.capacity:\n",
    "            self._resize(2*self.capacity)\n",
    "        self.A[self.n] = ele\n",
    "        self.n += 1\n",
    "    def _resize(self,new_cap):\n",
    "        B = self.make_array(new_cap)\n",
    "        for k in range(self.n):\n",
    "            B[k] = self.A[k]\n",
    "        self.A = B\n",
    "        self.capacity = new_cap\n",
    "    def make_array(self,new_cap):\n",
    "        print('New Cap:',new_cap)\n",
    "        return (new_cap * ctypes.py_object)()"
   ]
  },
  {
   "cell_type": "code",
   "execution_count": 72,
   "metadata": {},
   "outputs": [
    {
     "name": "stdout",
     "output_type": "stream",
     "text": [
      "New Cap: 1\n",
      "Length:  0, Size in bytes:  56\n"
     ]
    }
   ],
   "source": [
    "n = 10\n",
    "arr = DynamicArray()\n",
    "print('Length:{0:3d}, Size in bytes:{1:4d}'.format(len(arr),sys.getsizeof(arr)))"
   ]
  },
  {
   "cell_type": "code",
   "execution_count": 73,
   "metadata": {},
   "outputs": [
    {
     "name": "stdout",
     "output_type": "stream",
     "text": [
      "Length:  1, Size in bytes:  56, after adding:  0\n",
      "New Cap: 2\n",
      "Length:  2, Size in bytes:  56, after adding:  1\n",
      "New Cap: 4\n",
      "Length:  3, Size in bytes:  56, after adding:  2\n",
      "Length:  4, Size in bytes:  56, after adding:  3\n",
      "New Cap: 8\n",
      "Length:  5, Size in bytes:  56, after adding:  4\n",
      "Length:  6, Size in bytes:  56, after adding:  5\n",
      "Length:  7, Size in bytes:  56, after adding:  6\n",
      "Length:  8, Size in bytes:  56, after adding:  7\n",
      "New Cap: 16\n",
      "Length:  9, Size in bytes:  56, after adding:  8\n",
      "Length: 10, Size in bytes:  56, after adding:  9\n"
     ]
    }
   ],
   "source": [
    "for i in range(n):\n",
    "    arr.append(i)\n",
    "    print('Length:{0:3d}, Size in bytes:{1:4d}, after adding:{2:3d}'.format(len(arr),sys.getsizeof(arr),arr[i]))"
   ]
  }
 ],
 "metadata": {
  "kernelspec": {
   "display_name": "Python 3",
   "language": "python",
   "name": "python3"
  },
  "language_info": {
   "codemirror_mode": {
    "name": "ipython",
    "version": 3
   },
   "file_extension": ".py",
   "mimetype": "text/x-python",
   "name": "python",
   "nbconvert_exporter": "python",
   "pygments_lexer": "ipython3",
   "version": "3.7.4"
  }
 },
 "nbformat": 4,
 "nbformat_minor": 4
}
